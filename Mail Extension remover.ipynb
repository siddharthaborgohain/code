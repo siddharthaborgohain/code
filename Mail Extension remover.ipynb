{
 "cells": [
  {
   "cell_type": "code",
   "execution_count": 6,
   "id": "0b58018a",
   "metadata": {},
   "outputs": [],
   "source": [
    "import numpy as np\n",
    "import pandas as pd"
   ]
  },
  {
   "cell_type": "code",
   "execution_count": 11,
   "id": "719ecf53",
   "metadata": {},
   "outputs": [],
   "source": [
    "#Enter the whole mail ids inside''' '''\n",
    "x=''' VISHWACHETAN N/IHQ/COO <vishwachetan@ecomexpress.in>; AKSHAY T/IHQ/CAT/HEAD <akshaythapan@ecomexpress.in>; ANUJ K S/IHQ/CS/DGM <anuj.ks@ecomexpress.in>; AMIT KAVIA/IHQ/CBT_EXS/HEAD <amitkavia@ecomexpress.in>; GAGAN K/IHQ/CBT_EXS/SM <gagankanojia@ecomexpress.in>; GAURAV B/IHQ/CAT/FM & RTS LEAD <b.gaurav@ecomexpress.in>; ASIM A/IHQ/CAT/PRJ LEAD <asim.a@ecomexpress.in>; CAT TEAM/ECOM <CAT_Team@ecomexpress.in>; BA MIS/IHQ <BAMIS@ecomexpress.in>'''\n",
    "#x='''VISHNU S/IHQ/BPD/PDT LEAD <vishnu.s@ecomexpress.in>; SANCHARI H/ERO/CS/AM <sanchari@ecomexpress.in>; VIRENDER K/NRO/CS/EXEC <virender.k@ecomexpress.in>; AMAN P/WRO/CS/AM <p.aman@ecomexpress.in>; NEHA/IHQ/CAT/CST LEAD <neha@ecomexpress.in>; KARTHIK/SRO/CS/AM <karthik2@ecomexpress.in>; STATE_HEAD <sh@ecomexpress.in>; RHR/ECOM <rhr@ecomexpress.in>; RH/ECOM <RH@ecomexpress.in>; CLUSTER HEAD OPERATIONS <CH_OPS@ecomexpress.in>; RHR/ECOM <rhr@ecomexpress.in>; ROH\\ECOM <roh@ecomexpress.in>; PAREEK RAHUL/IHQ/CT/CM <pareek.rahul@ecomexpress.in>; LM_IHQ <LM_IHQ@ecomexpress.in>; LM_CT <LM_CT@ecomexpress.in>; RM_CS <rm_cs@ecomexpress.in>; RAJAT A/IHQ/OPS/SM <rajat@ecomexpress.in>; ANKIT D/IHQ/OPS/CM <ankit.d@ecomexpress.in>; WEST CS <westcs@ecomexpress.in>; EAST CS <cs_east@ecomexpress.in>; SOUTH CS ST\\ECOM <Southcsst@ecomexpress.in>; CENTRAL_CS/ECOM <centralcs@ecomexpress.in>'''\n",
    "#x='''CAT TEAM/ECOM <CAT_Team@ecomexpress.in>; SANDEEP SINGH/IHQ/CT/SR EXEC <sandeeps@ecomexpress.in>; ASHUTOSH/IHQ/CT/SR EXEC <ashutosh@ecomexpress.in>; LM_CT <LM_CT@ecomexpress.in>; CT <ct@ecomexpress.in>; RM_OPS <rm_ops@ecomexpress.in>; STATE_HEAD <sh@ecomexpress.in>; RH/ECOM <RH@ecomexpress.in>; ROH\\ECOM <roh@ecomexpress.in>; HR-NORTH <hr-north@ecomexpress.in>; RAJESH G/SRO/CAT/MIS SR DA <rajeshg@ecomexpress.in>; HR-CENTRAL <hr_central@ecomexpress.in>; POOJA P/B3R/OPS/EXEC <pooja.p@ecomexpress.in>; MH Area Managers <MHAreaManagers@ecomexpresssp.onmicrosoft.com>; AREAMGR_WEST/ECOM <areamgrwest@ecomexpress.in>; CLUSTER HEAD OPERATIONS <CH_OPS@ecomexpress.in>; TS_CHOPS <TS_chops@ecomexpress.in>; MUM Cluster <MUMCluster@ecomexpresssp.onmicrosoft.com>; WROMGMT/ECOM <wromgmt@ecomexpress.in>; RHR/ECOM <rhr@ecomexpress.in>; ANKIT D/IHQ/OPS/CM <ankit.d@ecomexpress.in>; MAHESH K/IHQ/CS/SR EXEC <k.mahesh@ecomexpress.in>; KERALA/HR <kerala_hr@ecomexpress.in>; SUKHVINDER/IHQ/CS/SM <sukhvinder.s@ecomexpress.in>; SOUTH_CHOPS <SOUTH_CHOPS@ecomexpress.in>; SUDHIR S/IHQ/SAL/P MGR <sudhir.s@ecomexpress.in>; ROHIT T/IHQ/CS/MGR <rohittalwar@ecomexpress.in>; ANKUR S/IHQ/SAL/VP <asinghal@ecomexpress.in>; AMIT KAVIA/IHQ/CBT_EXS/HEAD <amitkavia@ecomexpress.in>; JACOB J/IHQ/CS/DM <Jacobj@ecomexpress.in>; AJAY CHITKARA/IHQ/CEO <ajay.chitkara@ecomexpress.in>; GAGAN K/IHQ/CBT_EXS/SM <gagankanojia@ecomexpress.in>; SOUTH-AM/ECOM <south_am@ecomexpress.in>; SOUTH_SH/ECOM <south_sh@ecomexpress.in>; SOUTH_FH/ECOM <south_fh@ecomexpress.in>; LOKESH HG/SRO/OPS/AGM <lokesh.h@ecomexpress.in>; VENKATESH S/HRO/OPS/SM <s.venkatesh@ecomexpress.in>; NILESH K/IHQ/CBT_EXS/SM <nilesh.k@ecomexpress.in>; HR-EAST <hr-east@ecomexpress.in>; HR_ STATE HEAD/ECOM <hr_sh@ecomexpress.in>; HR-WEST <hr_west@ecomexpress.in>; SOUTH HR <south_hr@ecomexpress.in>; Planning/ECOM <planning@ecomexpress.in>; RAJAT A/IHQ/OPS/SM <rajat@ecomexpress.in>; ARPIT M/IHQ/OPS/AM <arpit.m@ecomexpress.in>; NUTAN V/IHQ/CS/SR EXEC <nutan.v@ecomexpress.in>; SANJAY M/IHQ/CAT/LM DA <sanjay.m@ecomexpress.in>; BHAVNA/IHQ/CS/SR EXEC <bhavna@ecomexpress.in>; DINESH KUMAR/IHQ/CS/EXEC <kdinesh@ecomexpress.in>; AVINAV PANDEY/IHQ/CT/CM <avinav.pandey@ecomexpress.in>; AKSHAY T/IHQ/CAT/HEAD <akshaythapan@ecomexpress.in>; ANKUR M/IHQ/BPD/PDT MGR <ankur.m@ecomexpress.in>; ASHWANY/IHQ/CAT/PRJ SR DA <ashwany@ecomexpress.in>; MOHIT/IHQ/CAT/PRJ DA <mohit45685@ecomexpress.in>; AMAN P/WRO/CS/AM <p.aman@ecomexpress.in>; RITIKA S/NRO/HR/RM <ritika@ecomexpress.in>; VINAY K/CRO/OPS/MGR <vinay.k@ecomexpress.in>; MIRZA/BSI/OPS/DM <mirza.m@ecomexpress.in>; MANOJ J/SUA/OPS/DM <manoj.jha@ecomexpress.in>; RAHUL J/NRO/CS/RM <rahul.j@ecomexpress.in>; AUSTIN T/IHQ/OPS/MT <austin.kt@ecomexpress.in>; ASIM A/IHQ/CAT/PRJ LEAD <asim.a@ecomexpress.in>; GAURAV B/IHQ/CAT/FM & RTS LEAD <b.gaurav@ecomexpress.in>; RAMENDASS/IHQ/CS/DM <ramend@ecomexpress.in>; SAPNA/IHQ/CS/SR EXEC <sapna@ecomexpress.in>; HARDEEP S/IHQ/CS/SR EXEC <hardeep.s@ecomexpress.in>; DIVYANSHU A/IHQ/CS/SR EXEC <divyanshu.a@ecomexpress.in>; RAGHAV/IHQ/CS/EXEC <raghav@ecomexpress.in>; RASHMI K/IHQ/CS/SR EXEC <rashmi.rk@ecomexpress.in>; RESMA P/IHQ/CS/EXEC <resma.p@ecomexpress.in>; AKSHIT M/IHQ/OPS/AM <akshit.m@ecomexpress.in>; BISWAPRAKASH/IHQ/CS/MGR <biswaprakash@ecomexpress.in>; NIKITA S/IHQ/CS/SR EXEC <nikita.s@ecomexpress.in>; SARITHA P/IHQ/CS/SR EXEC <saritha@ecomexpress.in>; SUPRIYA S/IHQ/CS/SM <supriya.s@ecomexpress.in>; KEY ACCOUNT WEST <keywest@ecomexpress.in>; JATIN KUMAR/IHQ/CS/DM <jatin01@ecomexpress.in>; GOWRIAMARNATH/SRO/CS/AM <gowriamarnath@ecomexpress.in>; KEY ACCOUNTS SOUTH <keysouth@ecomexpress.in>; BLR RO CS <blrrocs@ecomexpress.in>; KA_CHOPS <KA_CHOPS@ecomexpress.in>; KA_HR Team <KA_HRTeam@ecomexpresssp.onmicrosoft.com>; KUSHAGRA/CRO/OPS/AM <kushagra@ecomexpress.in>; SHIVANI P/IHQ/SAL/SM <shivanipandey@ecomexpress.in>; KEY ACCOUNT NORTH <keynorth@ecomexpress.in>; EAST_CH <East_ch@ecomexpress.in>; ANCHAL T/CRO/CS/SR EXEC <anchal.t@ecomexpress.in>; AKASH/CCU/CS/SR EXEC <akash.c@ecomexpress.in>; VIRENDER K/NRO/CS/EXEC <virender.k@ecomexpress.in>; KARTHIK/SRO/CS/AM <karthik2@ecomexpress.in>; RAJENDER K/DEL/OPS/DM <rajenderk@ecomexpress.in>; SOUTH HR <south_hr@ecomexpress.in>; Ecom Service Excellence _PAN India <EcomServiceExcellence_PANIndia@ecomexpresssp.onmicrosoft.com>; HR-CENTRAL <hr_central@ecomexpress.in>; VINAY T/WRO/OPS/PM <vinay.th@ecomexpress.in>; AMAN P/WRO/CS/AM <p.aman@ecomexpress.in>; IHQLT/ECOM <ihqlt@ecomexpress.in>; AMIT P/IHQ/CS/DM <amit.pratap@ecomexpress.in>'''\n",
    "#x='''VISHWACHETAN N/IHQ/COO <vishwachetan@ecomexpress.in>; MANJU DHAWAN/IHQ/DIR <manjud@ecomexpress.in>; TARUN A/IHQ/OPS/VP <tarun.a@ecomexpress.in>; RH/ECOM <RH@ecomexpress.in>; LM_IHQ <LM_IHQ@ecomexpress.in>; ANUJ K S/IHQ/CS/DGM <anuj.ks@ecomexpress.in>; PAREEK RAHUL/IHQ/CT/CM <pareek.rahul@ecomexpress.in>; GAURAV B/IHQ/CAT/FM & RTS LEAD <b.gaurav@ecomexpress.in>; ASIM A/IHQ/CAT/PRJ LEAD <asim.a@ecomexpress.in>; SIDDHARTHA B/IHQ/CAT/NET DA <siddhartha.b@ecomexpress.in>'''\n",
    "#x='''VISHWACHETAN N/IHQ/COO <vishwachetan@ecomexpress.in>; B KRISHNANANDA/IHQ/CPO <b.krishnananda@ecomexpress.in>; SONAM PALIWAL/IHQ/CNO <sonampaliwal@ecomexpress.in>; RAHUL TANDON/IHQ/CCSO <rahul.tandon@ecomexpress.in>; DIPANJAN BANERJEE/IHQ/CBO <dipanjanb@ecomexpress.in>; TARUN A/IHQ/OPS/VP <tarun.a@ecomexpress.in>; ANIK BHUSHAN/IHQ/SAL/AVP <anik.b@ecomexpress.in>; TEJAS V/IHQ/SAL/DGM <tejas.v@ecomexpress.in>; SANWALI S/IHQ/HR/VP <sanwali.sood@ecomexpress.in>; HARSH J/IHQ/HR/SPL PRJT <harsh@ecomexpress.in>'''"
   ]
  },
  {
   "cell_type": "code",
   "execution_count": 12,
   "id": "6d17e9ab",
   "metadata": {},
   "outputs": [
    {
     "data": {
      "text/plain": [
       "['vishwachetan@ecomexpress.in',\n",
       " 'akshaythapan@ecomexpress.in',\n",
       " 'anuj.ks@ecomexpress.in',\n",
       " 'amitkavia@ecomexpress.in',\n",
       " 'gagankanojia@ecomexpress.in',\n",
       " 'b.gaurav@ecomexpress.in',\n",
       " 'asim.a@ecomexpress.in',\n",
       " 'CAT_Team@ecomexpress.in',\n",
       " 'BAMIS@ecomexpress.in']"
      ]
     },
     "execution_count": 12,
     "metadata": {},
     "output_type": "execute_result"
    }
   ],
   "source": [
    "m=x.split(\";\")\n",
    "t=[i.split(\"<\") for i in m]\n",
    "mail=[i[1].strip(\">\") for i in t]\n",
    "mail"
   ]
  },
  {
   "cell_type": "code",
   "execution_count": 13,
   "id": "5276fe2e",
   "metadata": {},
   "outputs": [
    {
     "data": {
      "text/plain": [
       "9"
      ]
     },
     "execution_count": 13,
     "metadata": {},
     "output_type": "execute_result"
    }
   ],
   "source": [
    "len(mail)"
   ]
  },
  {
   "cell_type": "code",
   "execution_count": 14,
   "id": "91b5bc01",
   "metadata": {},
   "outputs": [
    {
     "data": {
      "text/plain": [
       "'vishwachetan@ecomexpress.in;akshaythapan@ecomexpress.in;anuj.ks@ecomexpress.in;amitkavia@ecomexpress.in;gagankanojia@ecomexpress.in;b.gaurav@ecomexpress.in;asim.a@ecomexpress.in;CAT_Team@ecomexpress.in;BAMIS@ecomexpress.in'"
      ]
     },
     "execution_count": 14,
     "metadata": {},
     "output_type": "execute_result"
    }
   ],
   "source": [
    "mail=\";\".join(mail)\n",
    "mail"
   ]
  },
  {
   "cell_type": "code",
   "execution_count": null,
   "id": "6cf3374e",
   "metadata": {},
   "outputs": [],
   "source": []
  },
  {
   "cell_type": "code",
   "execution_count": null,
   "id": "45b4ea42",
   "metadata": {},
   "outputs": [],
   "source": []
  }
 ],
 "metadata": {
  "kernelspec": {
   "display_name": "Python 3 (ipykernel)",
   "language": "python",
   "name": "python3"
  },
  "language_info": {
   "codemirror_mode": {
    "name": "ipython",
    "version": 3
   },
   "file_extension": ".py",
   "mimetype": "text/x-python",
   "name": "python",
   "nbconvert_exporter": "python",
   "pygments_lexer": "ipython3",
   "version": "3.12.4"
  }
 },
 "nbformat": 4,
 "nbformat_minor": 5
}
